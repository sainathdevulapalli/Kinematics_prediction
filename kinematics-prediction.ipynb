{
 "cells": [
  {
   "cell_type": "code",
   "execution_count": 1,
   "id": "4a105d01",
   "metadata": {
    "_cell_guid": "b1076dfc-b9ad-4769-8c92-a6c4dae69d19",
    "_uuid": "8f2839f25d086af736a60e9eeb907d3b93b6e0e5",
    "execution": {
     "iopub.execute_input": "2022-02-01T16:45:40.009874Z",
     "iopub.status.busy": "2022-02-01T16:45:40.008612Z",
     "iopub.status.idle": "2022-02-01T16:45:40.028943Z",
     "shell.execute_reply": "2022-02-01T16:45:40.029919Z",
     "shell.execute_reply.started": "2022-02-01T16:32:14.918115Z"
    },
    "papermill": {
     "duration": 0.067286,
     "end_time": "2022-02-01T16:45:40.030383",
     "exception": false,
     "start_time": "2022-02-01T16:45:39.963097",
     "status": "completed"
    },
    "tags": []
   },
   "outputs": [
    {
     "name": "stdout",
     "output_type": "stream",
     "text": [
      "/kaggle/input/kinematics-motion-data/Kinematics_Data.csv\n"
     ]
    }
   ],
   "source": [
    "# This Python 3 environment comes with many helpful analytics libraries installed\n",
    "# It is defined by the kaggle/python Docker image: https://github.com/kaggle/docker-python\n",
    "# For example, here's several helpful packages to load\n",
    "\n",
    "import numpy as np # linear algebra\n",
    "import pandas as pd # data processing, CSV file I/O (e.g. pd.read_csv)\n",
    "\n",
    "# Input data files are available in the read-only \"../input/\" directory\n",
    "# For example, running this (by clicking run or pressing Shift+Enter) will list all files under the input directory\n",
    "\n",
    "import os\n",
    "for dirname, _, filenames in os.walk('/kaggle/input'):\n",
    "    for filename in filenames:\n",
    "        print(os.path.join(dirname, filename))\n",
    "\n",
    "# You can write up to 20GB to the current directory (/kaggle/working/) that gets preserved as output when you create a version using \"Save & Run All\" \n",
    "# You can also write temporary files to /kaggle/temp/, but they won't be saved outside of the current session"
   ]
  },
  {
   "cell_type": "code",
   "execution_count": 2,
   "id": "12601a77",
   "metadata": {
    "execution": {
     "iopub.execute_input": "2022-02-01T16:45:40.114796Z",
     "iopub.status.busy": "2022-02-01T16:45:40.114078Z",
     "iopub.status.idle": "2022-02-01T16:45:40.396124Z",
     "shell.execute_reply": "2022-02-01T16:45:40.396894Z",
     "shell.execute_reply.started": "2022-02-01T16:32:14.928657Z"
    },
    "papermill": {
     "duration": 0.32546,
     "end_time": "2022-02-01T16:45:40.397090",
     "exception": false,
     "start_time": "2022-02-01T16:45:40.071630",
     "status": "completed"
    },
    "tags": []
   },
   "outputs": [
    {
     "data": {
      "text/plain": [
       "(88588, 11)"
      ]
     },
     "execution_count": 2,
     "metadata": {},
     "output_type": "execute_result"
    }
   ],
   "source": [
    "df = pd.read_csv('/kaggle/input/kinematics-motion-data/Kinematics_Data.csv')\n",
    "df.shape"
   ]
  },
  {
   "cell_type": "code",
   "execution_count": 3,
   "id": "3f887c19",
   "metadata": {
    "execution": {
     "iopub.execute_input": "2022-02-01T16:45:40.479540Z",
     "iopub.status.busy": "2022-02-01T16:45:40.478840Z",
     "iopub.status.idle": "2022-02-01T16:45:40.502105Z",
     "shell.execute_reply": "2022-02-01T16:45:40.502669Z",
     "shell.execute_reply.started": "2022-02-01T16:32:15.141191Z"
    },
    "papermill": {
     "duration": 0.067179,
     "end_time": "2022-02-01T16:45:40.502847",
     "exception": false,
     "start_time": "2022-02-01T16:45:40.435668",
     "status": "completed"
    },
    "tags": []
   },
   "outputs": [
    {
     "data": {
      "text/html": [
       "<div>\n",
       "<style scoped>\n",
       "    .dataframe tbody tr th:only-of-type {\n",
       "        vertical-align: middle;\n",
       "    }\n",
       "\n",
       "    .dataframe tbody tr th {\n",
       "        vertical-align: top;\n",
       "    }\n",
       "\n",
       "    .dataframe thead th {\n",
       "        text-align: right;\n",
       "    }\n",
       "</style>\n",
       "<table border=\"1\" class=\"dataframe\">\n",
       "  <thead>\n",
       "    <tr style=\"text-align: right;\">\n",
       "      <th></th>\n",
       "      <th>date</th>\n",
       "      <th>time</th>\n",
       "      <th>username</th>\n",
       "      <th>wrist</th>\n",
       "      <th>activity</th>\n",
       "      <th>acceleration_x</th>\n",
       "      <th>acceleration_y</th>\n",
       "      <th>acceleration_z</th>\n",
       "      <th>gyro_x</th>\n",
       "      <th>gyro_y</th>\n",
       "      <th>gyro_z</th>\n",
       "    </tr>\n",
       "  </thead>\n",
       "  <tbody>\n",
       "    <tr>\n",
       "      <th>0</th>\n",
       "      <td>2017-6-30</td>\n",
       "      <td>13:51:15:847724020</td>\n",
       "      <td>viktor</td>\n",
       "      <td>0</td>\n",
       "      <td>0</td>\n",
       "      <td>0.2650</td>\n",
       "      <td>-0.7814</td>\n",
       "      <td>-0.0076</td>\n",
       "      <td>-0.0590</td>\n",
       "      <td>0.0325</td>\n",
       "      <td>-2.9296</td>\n",
       "    </tr>\n",
       "    <tr>\n",
       "      <th>1</th>\n",
       "      <td>2017-6-30</td>\n",
       "      <td>13:51:16:246945023</td>\n",
       "      <td>viktor</td>\n",
       "      <td>0</td>\n",
       "      <td>0</td>\n",
       "      <td>0.6722</td>\n",
       "      <td>-1.1233</td>\n",
       "      <td>-0.2344</td>\n",
       "      <td>-0.1757</td>\n",
       "      <td>0.0208</td>\n",
       "      <td>0.1269</td>\n",
       "    </tr>\n",
       "    <tr>\n",
       "      <th>2</th>\n",
       "      <td>2017-6-30</td>\n",
       "      <td>13:51:16:446233987</td>\n",
       "      <td>viktor</td>\n",
       "      <td>0</td>\n",
       "      <td>0</td>\n",
       "      <td>0.4399</td>\n",
       "      <td>-1.4817</td>\n",
       "      <td>0.0722</td>\n",
       "      <td>-0.9105</td>\n",
       "      <td>0.1063</td>\n",
       "      <td>-2.4367</td>\n",
       "    </tr>\n",
       "    <tr>\n",
       "      <th>3</th>\n",
       "      <td>2017-6-30</td>\n",
       "      <td>13:51:16:646117985</td>\n",
       "      <td>viktor</td>\n",
       "      <td>0</td>\n",
       "      <td>0</td>\n",
       "      <td>0.3031</td>\n",
       "      <td>-0.8125</td>\n",
       "      <td>0.0888</td>\n",
       "      <td>0.1199</td>\n",
       "      <td>-0.4099</td>\n",
       "      <td>-2.9336</td>\n",
       "    </tr>\n",
       "    <tr>\n",
       "      <th>4</th>\n",
       "      <td>2017-6-30</td>\n",
       "      <td>13:51:16:846738994</td>\n",
       "      <td>viktor</td>\n",
       "      <td>0</td>\n",
       "      <td>0</td>\n",
       "      <td>0.4814</td>\n",
       "      <td>-0.9312</td>\n",
       "      <td>0.0359</td>\n",
       "      <td>0.0527</td>\n",
       "      <td>0.4379</td>\n",
       "      <td>2.4922</td>\n",
       "    </tr>\n",
       "  </tbody>\n",
       "</table>\n",
       "</div>"
      ],
      "text/plain": [
       "        date                time username  wrist  activity  acceleration_x  \\\n",
       "0  2017-6-30  13:51:15:847724020   viktor      0         0          0.2650   \n",
       "1  2017-6-30  13:51:16:246945023   viktor      0         0          0.6722   \n",
       "2  2017-6-30  13:51:16:446233987   viktor      0         0          0.4399   \n",
       "3  2017-6-30  13:51:16:646117985   viktor      0         0          0.3031   \n",
       "4  2017-6-30  13:51:16:846738994   viktor      0         0          0.4814   \n",
       "\n",
       "   acceleration_y  acceleration_z  gyro_x  gyro_y  gyro_z  \n",
       "0         -0.7814         -0.0076 -0.0590  0.0325 -2.9296  \n",
       "1         -1.1233         -0.2344 -0.1757  0.0208  0.1269  \n",
       "2         -1.4817          0.0722 -0.9105  0.1063 -2.4367  \n",
       "3         -0.8125          0.0888  0.1199 -0.4099 -2.9336  \n",
       "4         -0.9312          0.0359  0.0527  0.4379  2.4922  "
      ]
     },
     "execution_count": 3,
     "metadata": {},
     "output_type": "execute_result"
    }
   ],
   "source": [
    "df.head()"
   ]
  },
  {
   "cell_type": "code",
   "execution_count": 4,
   "id": "ee0f0f27",
   "metadata": {
    "execution": {
     "iopub.execute_input": "2022-02-01T16:45:40.586473Z",
     "iopub.status.busy": "2022-02-01T16:45:40.585802Z",
     "iopub.status.idle": "2022-02-01T16:45:40.656045Z",
     "shell.execute_reply": "2022-02-01T16:45:40.655424Z",
     "shell.execute_reply.started": "2022-02-01T16:32:15.161088Z"
    },
    "papermill": {
     "duration": 0.113277,
     "end_time": "2022-02-01T16:45:40.656209",
     "exception": false,
     "start_time": "2022-02-01T16:45:40.542932",
     "status": "completed"
    },
    "tags": []
   },
   "outputs": [
    {
     "data": {
      "text/html": [
       "<div>\n",
       "<style scoped>\n",
       "    .dataframe tbody tr th:only-of-type {\n",
       "        vertical-align: middle;\n",
       "    }\n",
       "\n",
       "    .dataframe tbody tr th {\n",
       "        vertical-align: top;\n",
       "    }\n",
       "\n",
       "    .dataframe thead th {\n",
       "        text-align: right;\n",
       "    }\n",
       "</style>\n",
       "<table border=\"1\" class=\"dataframe\">\n",
       "  <thead>\n",
       "    <tr style=\"text-align: right;\">\n",
       "      <th></th>\n",
       "      <th>wrist</th>\n",
       "      <th>activity</th>\n",
       "      <th>acceleration_x</th>\n",
       "      <th>acceleration_y</th>\n",
       "      <th>acceleration_z</th>\n",
       "      <th>gyro_x</th>\n",
       "      <th>gyro_y</th>\n",
       "      <th>gyro_z</th>\n",
       "    </tr>\n",
       "  </thead>\n",
       "  <tbody>\n",
       "    <tr>\n",
       "      <th>count</th>\n",
       "      <td>88588.000000</td>\n",
       "      <td>88588.000000</td>\n",
       "      <td>88588.000000</td>\n",
       "      <td>88588.000000</td>\n",
       "      <td>88588.000000</td>\n",
       "      <td>88588.000000</td>\n",
       "      <td>88588.000000</td>\n",
       "      <td>88588.000000</td>\n",
       "    </tr>\n",
       "    <tr>\n",
       "      <th>mean</th>\n",
       "      <td>0.522170</td>\n",
       "      <td>0.500801</td>\n",
       "      <td>-0.074811</td>\n",
       "      <td>-0.562585</td>\n",
       "      <td>-0.313956</td>\n",
       "      <td>0.004160</td>\n",
       "      <td>0.037203</td>\n",
       "      <td>0.022327</td>\n",
       "    </tr>\n",
       "    <tr>\n",
       "      <th>std</th>\n",
       "      <td>0.499511</td>\n",
       "      <td>0.500002</td>\n",
       "      <td>1.009299</td>\n",
       "      <td>0.658458</td>\n",
       "      <td>0.486815</td>\n",
       "      <td>1.253423</td>\n",
       "      <td>1.198725</td>\n",
       "      <td>1.914423</td>\n",
       "    </tr>\n",
       "    <tr>\n",
       "      <th>min</th>\n",
       "      <td>0.000000</td>\n",
       "      <td>0.000000</td>\n",
       "      <td>-5.350500</td>\n",
       "      <td>-3.299000</td>\n",
       "      <td>-3.753800</td>\n",
       "      <td>-4.430600</td>\n",
       "      <td>-7.464700</td>\n",
       "      <td>-9.480000</td>\n",
       "    </tr>\n",
       "    <tr>\n",
       "      <th>25%</th>\n",
       "      <td>0.000000</td>\n",
       "      <td>0.000000</td>\n",
       "      <td>-0.381800</td>\n",
       "      <td>-1.033500</td>\n",
       "      <td>-0.376000</td>\n",
       "      <td>-0.920700</td>\n",
       "      <td>-0.644825</td>\n",
       "      <td>-1.345125</td>\n",
       "    </tr>\n",
       "    <tr>\n",
       "      <th>50%</th>\n",
       "      <td>1.000000</td>\n",
       "      <td>1.000000</td>\n",
       "      <td>-0.059500</td>\n",
       "      <td>-0.759100</td>\n",
       "      <td>-0.221000</td>\n",
       "      <td>0.018700</td>\n",
       "      <td>0.039300</td>\n",
       "      <td>0.006900</td>\n",
       "    </tr>\n",
       "    <tr>\n",
       "      <th>75%</th>\n",
       "      <td>1.000000</td>\n",
       "      <td>1.000000</td>\n",
       "      <td>0.355500</td>\n",
       "      <td>-0.241775</td>\n",
       "      <td>-0.085900</td>\n",
       "      <td>0.888800</td>\n",
       "      <td>0.733700</td>\n",
       "      <td>1.398200</td>\n",
       "    </tr>\n",
       "    <tr>\n",
       "      <th>max</th>\n",
       "      <td>1.000000</td>\n",
       "      <td>1.000000</td>\n",
       "      <td>5.603300</td>\n",
       "      <td>2.668000</td>\n",
       "      <td>1.640300</td>\n",
       "      <td>4.874200</td>\n",
       "      <td>8.498000</td>\n",
       "      <td>11.266200</td>\n",
       "    </tr>\n",
       "  </tbody>\n",
       "</table>\n",
       "</div>"
      ],
      "text/plain": [
       "              wrist      activity  acceleration_x  acceleration_y  \\\n",
       "count  88588.000000  88588.000000    88588.000000    88588.000000   \n",
       "mean       0.522170      0.500801       -0.074811       -0.562585   \n",
       "std        0.499511      0.500002        1.009299        0.658458   \n",
       "min        0.000000      0.000000       -5.350500       -3.299000   \n",
       "25%        0.000000      0.000000       -0.381800       -1.033500   \n",
       "50%        1.000000      1.000000       -0.059500       -0.759100   \n",
       "75%        1.000000      1.000000        0.355500       -0.241775   \n",
       "max        1.000000      1.000000        5.603300        2.668000   \n",
       "\n",
       "       acceleration_z        gyro_x        gyro_y        gyro_z  \n",
       "count    88588.000000  88588.000000  88588.000000  88588.000000  \n",
       "mean        -0.313956      0.004160      0.037203      0.022327  \n",
       "std          0.486815      1.253423      1.198725      1.914423  \n",
       "min         -3.753800     -4.430600     -7.464700     -9.480000  \n",
       "25%         -0.376000     -0.920700     -0.644825     -1.345125  \n",
       "50%         -0.221000      0.018700      0.039300      0.006900  \n",
       "75%         -0.085900      0.888800      0.733700      1.398200  \n",
       "max          1.640300      4.874200      8.498000     11.266200  "
      ]
     },
     "execution_count": 4,
     "metadata": {},
     "output_type": "execute_result"
    }
   ],
   "source": [
    "df.describe()"
   ]
  },
  {
   "cell_type": "code",
   "execution_count": 5,
   "id": "1382559e",
   "metadata": {
    "execution": {
     "iopub.execute_input": "2022-02-01T16:45:40.743490Z",
     "iopub.status.busy": "2022-02-01T16:45:40.742545Z",
     "iopub.status.idle": "2022-02-01T16:45:40.787531Z",
     "shell.execute_reply": "2022-02-01T16:45:40.786871Z",
     "shell.execute_reply.started": "2022-02-01T16:32:15.227592Z"
    },
    "papermill": {
     "duration": 0.092011,
     "end_time": "2022-02-01T16:45:40.787687",
     "exception": false,
     "start_time": "2022-02-01T16:45:40.695676",
     "status": "completed"
    },
    "tags": []
   },
   "outputs": [
    {
     "name": "stdout",
     "output_type": "stream",
     "text": [
      "<class 'pandas.core.frame.DataFrame'>\n",
      "RangeIndex: 88588 entries, 0 to 88587\n",
      "Data columns (total 11 columns):\n",
      " #   Column          Non-Null Count  Dtype  \n",
      "---  ------          --------------  -----  \n",
      " 0   date            88588 non-null  object \n",
      " 1   time            88588 non-null  object \n",
      " 2   username        88588 non-null  object \n",
      " 3   wrist           88588 non-null  int64  \n",
      " 4   activity        88588 non-null  int64  \n",
      " 5   acceleration_x  88588 non-null  float64\n",
      " 6   acceleration_y  88588 non-null  float64\n",
      " 7   acceleration_z  88588 non-null  float64\n",
      " 8   gyro_x          88588 non-null  float64\n",
      " 9   gyro_y          88588 non-null  float64\n",
      " 10  gyro_z          88588 non-null  float64\n",
      "dtypes: float64(6), int64(2), object(3)\n",
      "memory usage: 7.4+ MB\n"
     ]
    }
   ],
   "source": [
    "df.info()"
   ]
  },
  {
   "cell_type": "code",
   "execution_count": 6,
   "id": "5837612e",
   "metadata": {
    "execution": {
     "iopub.execute_input": "2022-02-01T16:45:40.875693Z",
     "iopub.status.busy": "2022-02-01T16:45:40.874688Z",
     "iopub.status.idle": "2022-02-01T16:45:40.912765Z",
     "shell.execute_reply": "2022-02-01T16:45:40.913279Z",
     "shell.execute_reply.started": "2022-02-01T16:32:15.272624Z"
    },
    "papermill": {
     "duration": 0.084337,
     "end_time": "2022-02-01T16:45:40.913466",
     "exception": false,
     "start_time": "2022-02-01T16:45:40.829129",
     "status": "completed"
    },
    "tags": []
   },
   "outputs": [
    {
     "data": {
      "text/plain": [
       "date              0\n",
       "time              0\n",
       "username          0\n",
       "wrist             0\n",
       "activity          0\n",
       "acceleration_x    0\n",
       "acceleration_y    0\n",
       "acceleration_z    0\n",
       "gyro_x            0\n",
       "gyro_y            0\n",
       "gyro_z            0\n",
       "dtype: int64"
      ]
     },
     "execution_count": 6,
     "metadata": {},
     "output_type": "execute_result"
    }
   ],
   "source": [
    "df.isna().sum()"
   ]
  },
  {
   "cell_type": "code",
   "execution_count": 7,
   "id": "173b41d9",
   "metadata": {
    "execution": {
     "iopub.execute_input": "2022-02-01T16:45:41.000072Z",
     "iopub.status.busy": "2022-02-01T16:45:40.999077Z",
     "iopub.status.idle": "2022-02-01T16:45:41.005179Z",
     "shell.execute_reply": "2022-02-01T16:45:41.004537Z",
     "shell.execute_reply.started": "2022-02-01T16:32:15.312796Z"
    },
    "papermill": {
     "duration": 0.051519,
     "end_time": "2022-02-01T16:45:41.005357",
     "exception": false,
     "start_time": "2022-02-01T16:45:40.953838",
     "status": "completed"
    },
    "tags": []
   },
   "outputs": [
    {
     "data": {
      "text/plain": [
       "array([0, 1])"
      ]
     },
     "execution_count": 7,
     "metadata": {},
     "output_type": "execute_result"
    }
   ],
   "source": [
    "df['wrist'].unique()"
   ]
  },
  {
   "cell_type": "code",
   "execution_count": 8,
   "id": "4951429e",
   "metadata": {
    "execution": {
     "iopub.execute_input": "2022-02-01T16:45:41.091519Z",
     "iopub.status.busy": "2022-02-01T16:45:41.090427Z",
     "iopub.status.idle": "2022-02-01T16:45:41.103799Z",
     "shell.execute_reply": "2022-02-01T16:45:41.104405Z",
     "shell.execute_reply.started": "2022-02-01T16:32:15.320409Z"
    },
    "papermill": {
     "duration": 0.057472,
     "end_time": "2022-02-01T16:45:41.104601",
     "exception": false,
     "start_time": "2022-02-01T16:45:41.047129",
     "status": "completed"
    },
    "tags": []
   },
   "outputs": [
    {
     "data": {
      "text/plain": [
       "array(['viktor'], dtype=object)"
      ]
     },
     "execution_count": 8,
     "metadata": {},
     "output_type": "execute_result"
    }
   ],
   "source": [
    "df['username'].unique()"
   ]
  },
  {
   "cell_type": "code",
   "execution_count": 9,
   "id": "2effad51",
   "metadata": {
    "execution": {
     "iopub.execute_input": "2022-02-01T16:45:41.190846Z",
     "iopub.status.busy": "2022-02-01T16:45:41.189824Z",
     "iopub.status.idle": "2022-02-01T16:45:41.203051Z",
     "shell.execute_reply": "2022-02-01T16:45:41.203639Z",
     "shell.execute_reply.started": "2022-02-01T16:32:15.340804Z"
    },
    "papermill": {
     "duration": 0.057638,
     "end_time": "2022-02-01T16:45:41.203814",
     "exception": false,
     "start_time": "2022-02-01T16:45:41.146176",
     "status": "completed"
    },
    "tags": []
   },
   "outputs": [
    {
     "data": {
      "text/plain": [
       "array(['2017-6-30', '2017-7-10', '2017-7-11', '2017-7-15', '2017-7-16',\n",
       "       '2017-7-17', '2017-7-1', '2017-7-2', '2017-7-4', '2017-7-6',\n",
       "       '2017-7-7', '2017-7-9'], dtype=object)"
      ]
     },
     "execution_count": 9,
     "metadata": {},
     "output_type": "execute_result"
    }
   ],
   "source": [
    "df['date'].unique()"
   ]
  },
  {
   "cell_type": "code",
   "execution_count": 10,
   "id": "7d39561f",
   "metadata": {
    "execution": {
     "iopub.execute_input": "2022-02-01T16:45:41.291944Z",
     "iopub.status.busy": "2022-02-01T16:45:41.290911Z",
     "iopub.status.idle": "2022-02-01T16:45:41.308574Z",
     "shell.execute_reply": "2022-02-01T16:45:41.309140Z",
     "shell.execute_reply.started": "2022-02-01T16:32:15.356833Z"
    },
    "papermill": {
     "duration": 0.063921,
     "end_time": "2022-02-01T16:45:41.309341",
     "exception": false,
     "start_time": "2022-02-01T16:45:41.245420",
     "status": "completed"
    },
    "tags": []
   },
   "outputs": [
    {
     "data": {
      "text/html": [
       "<div>\n",
       "<style scoped>\n",
       "    .dataframe tbody tr th:only-of-type {\n",
       "        vertical-align: middle;\n",
       "    }\n",
       "\n",
       "    .dataframe tbody tr th {\n",
       "        vertical-align: top;\n",
       "    }\n",
       "\n",
       "    .dataframe thead th {\n",
       "        text-align: right;\n",
       "    }\n",
       "</style>\n",
       "<table border=\"1\" class=\"dataframe\">\n",
       "  <thead>\n",
       "    <tr style=\"text-align: right;\">\n",
       "      <th></th>\n",
       "      <th>wrist</th>\n",
       "      <th>activity</th>\n",
       "      <th>acceleration_x</th>\n",
       "      <th>acceleration_y</th>\n",
       "      <th>acceleration_z</th>\n",
       "      <th>gyro_x</th>\n",
       "      <th>gyro_y</th>\n",
       "      <th>gyro_z</th>\n",
       "    </tr>\n",
       "  </thead>\n",
       "  <tbody>\n",
       "    <tr>\n",
       "      <th>0</th>\n",
       "      <td>0</td>\n",
       "      <td>0</td>\n",
       "      <td>0.2650</td>\n",
       "      <td>-0.7814</td>\n",
       "      <td>-0.0076</td>\n",
       "      <td>-0.0590</td>\n",
       "      <td>0.0325</td>\n",
       "      <td>-2.9296</td>\n",
       "    </tr>\n",
       "    <tr>\n",
       "      <th>1</th>\n",
       "      <td>0</td>\n",
       "      <td>0</td>\n",
       "      <td>0.6722</td>\n",
       "      <td>-1.1233</td>\n",
       "      <td>-0.2344</td>\n",
       "      <td>-0.1757</td>\n",
       "      <td>0.0208</td>\n",
       "      <td>0.1269</td>\n",
       "    </tr>\n",
       "    <tr>\n",
       "      <th>2</th>\n",
       "      <td>0</td>\n",
       "      <td>0</td>\n",
       "      <td>0.4399</td>\n",
       "      <td>-1.4817</td>\n",
       "      <td>0.0722</td>\n",
       "      <td>-0.9105</td>\n",
       "      <td>0.1063</td>\n",
       "      <td>-2.4367</td>\n",
       "    </tr>\n",
       "    <tr>\n",
       "      <th>3</th>\n",
       "      <td>0</td>\n",
       "      <td>0</td>\n",
       "      <td>0.3031</td>\n",
       "      <td>-0.8125</td>\n",
       "      <td>0.0888</td>\n",
       "      <td>0.1199</td>\n",
       "      <td>-0.4099</td>\n",
       "      <td>-2.9336</td>\n",
       "    </tr>\n",
       "    <tr>\n",
       "      <th>4</th>\n",
       "      <td>0</td>\n",
       "      <td>0</td>\n",
       "      <td>0.4814</td>\n",
       "      <td>-0.9312</td>\n",
       "      <td>0.0359</td>\n",
       "      <td>0.0527</td>\n",
       "      <td>0.4379</td>\n",
       "      <td>2.4922</td>\n",
       "    </tr>\n",
       "  </tbody>\n",
       "</table>\n",
       "</div>"
      ],
      "text/plain": [
       "   wrist  activity  acceleration_x  acceleration_y  acceleration_z  gyro_x  \\\n",
       "0      0         0          0.2650         -0.7814         -0.0076 -0.0590   \n",
       "1      0         0          0.6722         -1.1233         -0.2344 -0.1757   \n",
       "2      0         0          0.4399         -1.4817          0.0722 -0.9105   \n",
       "3      0         0          0.3031         -0.8125          0.0888  0.1199   \n",
       "4      0         0          0.4814         -0.9312          0.0359  0.0527   \n",
       "\n",
       "   gyro_y  gyro_z  \n",
       "0  0.0325 -2.9296  \n",
       "1  0.0208  0.1269  \n",
       "2  0.1063 -2.4367  \n",
       "3 -0.4099 -2.9336  \n",
       "4  0.4379  2.4922  "
      ]
     },
     "execution_count": 10,
     "metadata": {},
     "output_type": "execute_result"
    }
   ],
   "source": [
    "# Date, Time and Username are not going to be universal features so we can drop them first\n",
    "\n",
    "df = df.drop(columns=['username','date','time'],axis=1)\n",
    "df.head()"
   ]
  },
  {
   "cell_type": "code",
   "execution_count": 11,
   "id": "46ede802",
   "metadata": {
    "execution": {
     "iopub.execute_input": "2022-02-01T16:45:41.399113Z",
     "iopub.status.busy": "2022-02-01T16:45:41.398083Z",
     "iopub.status.idle": "2022-02-01T16:45:41.608958Z",
     "shell.execute_reply": "2022-02-01T16:45:41.608413Z",
     "shell.execute_reply.started": "2022-02-01T16:32:15.380527Z"
    },
    "papermill": {
     "duration": 0.257439,
     "end_time": "2022-02-01T16:45:41.609109",
     "exception": false,
     "start_time": "2022-02-01T16:45:41.351670",
     "status": "completed"
    },
    "tags": []
   },
   "outputs": [
    {
     "data": {
      "image/png": "[encoded data removed]",
      "text/plain": [
       "<Figure size 432x288 with 1 Axes>"
      ]
     },
     "metadata": {
      "needs_background": "light"
     },
     "output_type": "display_data"
    }
   ],
   "source": [
    "from matplotlib import pyplot as plt\n",
    "\n",
    "plt.boxplot(df['acceleration_x'],vert=False)\n",
    "plt.title('Acceleration_X boxplot')\n",
    "plt.show()"
   ]
  },
  {
   "cell_type": "code",
   "execution_count": 12,
   "id": "6c6ed486",
   "metadata": {
    "execution": {
     "iopub.execute_input": "2022-02-01T16:45:41.703489Z",
     "iopub.status.busy": "2022-02-01T16:45:41.702785Z",
     "iopub.status.idle": "2022-02-01T16:45:42.645600Z",
     "shell.execute_reply": "2022-02-01T16:45:42.646286Z",
     "shell.execute_reply.started": "2022-02-01T16:32:15.516782Z"
    },
    "papermill": {
     "duration": 0.992572,
     "end_time": "2022-02-01T16:45:42.646467",
     "exception": false,
     "start_time": "2022-02-01T16:45:41.653895",
     "status": "completed"
    },
    "tags": []
   },
   "outputs": [],
   "source": [
    "from scipy import stats\n",
    "\n",
    "def zscore(col):\n",
    "    thres = 3\n",
    "    t = []\n",
    "    for i in stats.zscore(df[col]):\n",
    "        if(i < 3):\n",
    "            t.append(i)\n",
    "        else:\n",
    "            t.append('nan')\n",
    "    return t"
   ]
  },
  {
   "cell_type": "code",
   "execution_count": 13,
   "id": "095c7f58",
   "metadata": {
    "execution": {
     "iopub.execute_input": "2022-02-01T16:45:42.737375Z",
     "iopub.status.busy": "2022-02-01T16:45:42.736686Z",
     "iopub.status.idle": "2022-02-01T16:45:42.922724Z",
     "shell.execute_reply": "2022-02-01T16:45:42.923296Z",
     "shell.execute_reply.started": "2022-02-01T16:32:15.526037Z"
    },
    "papermill": {
     "duration": 0.234791,
     "end_time": "2022-02-01T16:45:42.923486",
     "exception": false,
     "start_time": "2022-02-01T16:45:42.688695",
     "status": "completed"
    },
    "tags": []
   },
   "outputs": [],
   "source": [
    "acc_x = zscore('acceleration_x')\n",
    "acc_y = zscore('acceleration_y')\n",
    "acc_z = zscore('acceleration_z')\n",
    "gyro_x = zscore('gyro_x')\n",
    "gyro_y = zscore('gyro_y')\n",
    "gyro_z = zscore('gyro_z')"
   ]
  },
  {
   "cell_type": "code",
   "execution_count": 14,
   "id": "8e725d30",
   "metadata": {
    "execution": {
     "iopub.execute_input": "2022-02-01T16:45:43.014735Z",
     "iopub.status.busy": "2022-02-01T16:45:43.014017Z",
     "iopub.status.idle": "2022-02-01T16:45:43.021619Z",
     "shell.execute_reply": "2022-02-01T16:45:43.022885Z",
     "shell.execute_reply.started": "2022-02-01T16:32:15.716950Z"
    },
    "papermill": {
     "duration": 0.05668,
     "end_time": "2022-02-01T16:45:43.023215",
     "exception": false,
     "start_time": "2022-02-01T16:45:42.966535",
     "status": "completed"
    },
    "tags": []
   },
   "outputs": [
    {
     "name": "stdout",
     "output_type": "stream",
     "text": [
      "88588\n",
      "88588\n",
      "88588\n",
      "88588\n",
      "88588\n",
      "88588\n"
     ]
    }
   ],
   "source": [
    "print(len(acc_x))\n",
    "print(len(acc_y))\n",
    "print(len(acc_z))\n",
    "print(len(gyro_x))\n",
    "print(len(gyro_y))\n",
    "print(len(gyro_z))"
   ]
  },
  {
   "cell_type": "markdown",
   "id": "cefd171a",
   "metadata": {
    "papermill": {
     "duration": 0.042486,
     "end_time": "2022-02-01T16:45:43.109748",
     "exception": false,
     "start_time": "2022-02-01T16:45:43.067262",
     "status": "completed"
    },
    "tags": []
   },
   "source": [
    "#### The features doesn't seem to have outliers and we used zscore rather than quarantiles as these are continuous observational facts and dispersed all over."
   ]
  },
  {
   "cell_type": "code",
   "execution_count": 15,
   "id": "62c4699e",
   "metadata": {
    "execution": {
     "iopub.execute_input": "2022-02-01T16:45:43.200273Z",
     "iopub.status.busy": "2022-02-01T16:45:43.199374Z",
     "iopub.status.idle": "2022-02-01T16:45:43.257329Z",
     "shell.execute_reply": "2022-02-01T16:45:43.258032Z",
     "shell.execute_reply.started": "2022-02-01T16:32:15.727797Z"
    },
    "papermill": {
     "duration": 0.10439,
     "end_time": "2022-02-01T16:45:43.258238",
     "exception": false,
     "start_time": "2022-02-01T16:45:43.153848",
     "status": "completed"
    },
    "tags": []
   },
   "outputs": [
    {
     "data": {
      "text/plain": [
       "(79729, 8)"
      ]
     },
     "execution_count": 15,
     "metadata": {},
     "output_type": "execute_result"
    }
   ],
   "source": [
    "df_else = df.sample(frac=0.9,random_state=20)\n",
    "df_test = df.drop(df_else.index)\n",
    "\n",
    "df_else = df_else.reset_index(drop=True)\n",
    "df_test = df_test.reset_index(drop=True)\n",
    "\n",
    "df_else.shape"
   ]
  },
  {
   "cell_type": "code",
   "execution_count": 16,
   "id": "8927ba94",
   "metadata": {
    "execution": {
     "iopub.execute_input": "2022-02-01T16:45:43.350437Z",
     "iopub.status.busy": "2022-02-01T16:45:43.349743Z",
     "iopub.status.idle": "2022-02-01T16:45:43.354648Z",
     "shell.execute_reply": "2022-02-01T16:45:43.355171Z",
     "shell.execute_reply.started": "2022-02-01T16:32:15.780273Z"
    },
    "papermill": {
     "duration": 0.052761,
     "end_time": "2022-02-01T16:45:43.355394",
     "exception": false,
     "start_time": "2022-02-01T16:45:43.302633",
     "status": "completed"
    },
    "tags": []
   },
   "outputs": [
    {
     "data": {
      "text/plain": [
       "(8859, 8)"
      ]
     },
     "execution_count": 16,
     "metadata": {},
     "output_type": "execute_result"
    }
   ],
   "source": [
    "df_test.shape"
   ]
  },
  {
   "cell_type": "code",
   "execution_count": 17,
   "id": "9a3f34f1",
   "metadata": {
    "execution": {
     "iopub.execute_input": "2022-02-01T16:45:43.446564Z",
     "iopub.status.busy": "2022-02-01T16:45:43.445471Z",
     "iopub.status.idle": "2022-02-01T16:45:43.925847Z",
     "shell.execute_reply": "2022-02-01T16:45:43.926411Z",
     "shell.execute_reply.started": "2022-02-01T16:32:15.787788Z"
    },
    "papermill": {
     "duration": 0.527418,
     "end_time": "2022-02-01T16:45:43.926600",
     "exception": false,
     "start_time": "2022-02-01T16:45:43.399182",
     "status": "completed"
    },
    "tags": []
   },
   "outputs": [
    {
     "name": "stderr",
     "output_type": "stream",
     "text": [
      "/opt/conda/lib/python3.7/site-packages/sklearn/feature_selection/_univariate_selection.py:116: RuntimeWarning: divide by zero encountered in true_divide\n",
      "  f = msb / msw\n",
      "/opt/conda/lib/python3.7/site-packages/sklearn/feature_selection/_univariate_selection.py:116: RuntimeWarning: divide by zero encountered in true_divide\n",
      "  f = msb / msw\n"
     ]
    },
    {
     "data": {
      "text/html": [
       "<div>\n",
       "<style scoped>\n",
       "    .dataframe tbody tr th:only-of-type {\n",
       "        vertical-align: middle;\n",
       "    }\n",
       "\n",
       "    .dataframe tbody tr th {\n",
       "        vertical-align: top;\n",
       "    }\n",
       "\n",
       "    .dataframe thead th {\n",
       "        text-align: right;\n",
       "    }\n",
       "</style>\n",
       "<table border=\"1\" class=\"dataframe\">\n",
       "  <thead>\n",
       "    <tr style=\"text-align: right;\">\n",
       "      <th></th>\n",
       "      <th>col</th>\n",
       "      <th>f_score</th>\n",
       "      <th>p_value</th>\n",
       "    </tr>\n",
       "  </thead>\n",
       "  <tbody>\n",
       "    <tr>\n",
       "      <th>0</th>\n",
       "      <td>activity</td>\n",
       "      <td>inf</td>\n",
       "      <td>0.000000e+00</td>\n",
       "    </tr>\n",
       "    <tr>\n",
       "      <th>1</th>\n",
       "      <td>acceleration_x</td>\n",
       "      <td>2.546240e+01</td>\n",
       "      <td>4.520778e-07</td>\n",
       "    </tr>\n",
       "    <tr>\n",
       "      <th>2</th>\n",
       "      <td>acceleration_y</td>\n",
       "      <td>5.501001e+04</td>\n",
       "      <td>0.000000e+00</td>\n",
       "    </tr>\n",
       "    <tr>\n",
       "      <th>3</th>\n",
       "      <td>acceleration_z</td>\n",
       "      <td>3.093820e+03</td>\n",
       "      <td>0.000000e+00</td>\n",
       "    </tr>\n",
       "    <tr>\n",
       "      <th>4</th>\n",
       "      <td>gyro_x</td>\n",
       "      <td>1.468447e+02</td>\n",
       "      <td>9.086806e-34</td>\n",
       "    </tr>\n",
       "    <tr>\n",
       "      <th>5</th>\n",
       "      <td>gyro_y</td>\n",
       "      <td>1.382455e+01</td>\n",
       "      <td>2.008341e-04</td>\n",
       "    </tr>\n",
       "    <tr>\n",
       "      <th>6</th>\n",
       "      <td>gyro_z</td>\n",
       "      <td>3.809634e+00</td>\n",
       "      <td>5.096208e-02</td>\n",
       "    </tr>\n",
       "  </tbody>\n",
       "</table>\n",
       "</div>"
      ],
      "text/plain": [
       "              col       f_score       p_value\n",
       "0        activity           inf  0.000000e+00\n",
       "1  acceleration_x  2.546240e+01  4.520778e-07\n",
       "2  acceleration_y  5.501001e+04  0.000000e+00\n",
       "3  acceleration_z  3.093820e+03  0.000000e+00\n",
       "4          gyro_x  1.468447e+02  9.086806e-34\n",
       "5          gyro_y  1.382455e+01  2.008341e-04\n",
       "6          gyro_z  3.809634e+00  5.096208e-02"
      ]
     },
     "execution_count": 17,
     "metadata": {},
     "output_type": "execute_result"
    }
   ],
   "source": [
    "# Feature Selection\n",
    "# Numerical input Categorical output\n",
    "\n",
    "df_cat = df_else[['wrist','activity']]\n",
    "df_num = df_else.drop(columns=['wrist'],axis=1)\n",
    "\n",
    "from sklearn.feature_selection import f_classif\n",
    "\n",
    "f_score = []\n",
    "p_value = []\n",
    "for i in df_num.columns:\n",
    "    f_score.append(f_classif(df_num[[i]],df_num['activity'])[0][0])\n",
    "    p_value.append(f_classif(df_num[[i]],df_num['activity'])[1][0])\n",
    "    \n",
    "f_sco = pd.DataFrame(columns=['col','f_score','p_value'])\n",
    "\n",
    "f_sco['col'] = df_num.columns\n",
    "f_sco['f_score'] = f_score\n",
    "f_sco['p_value'] = p_value\n",
    "\n",
    "f_sco"
   ]
  },
  {
   "cell_type": "code",
   "execution_count": 18,
   "id": "d0a7da42",
   "metadata": {
    "execution": {
     "iopub.execute_input": "2022-02-01T16:45:44.030987Z",
     "iopub.status.busy": "2022-02-01T16:45:44.029996Z",
     "iopub.status.idle": "2022-02-01T16:45:44.032968Z",
     "shell.execute_reply": "2022-02-01T16:45:44.033480Z",
     "shell.execute_reply.started": "2022-02-01T16:32:15.911480Z"
    },
    "papermill": {
     "duration": 0.063137,
     "end_time": "2022-02-01T16:45:44.033655",
     "exception": false,
     "start_time": "2022-02-01T16:45:43.970518",
     "status": "completed"
    },
    "tags": []
   },
   "outputs": [
    {
     "data": {
      "text/html": [
       "<div>\n",
       "<style scoped>\n",
       "    .dataframe tbody tr th:only-of-type {\n",
       "        vertical-align: middle;\n",
       "    }\n",
       "\n",
       "    .dataframe tbody tr th {\n",
       "        vertical-align: top;\n",
       "    }\n",
       "\n",
       "    .dataframe thead th {\n",
       "        text-align: right;\n",
       "    }\n",
       "</style>\n",
       "<table border=\"1\" class=\"dataframe\">\n",
       "  <thead>\n",
       "    <tr style=\"text-align: right;\">\n",
       "      <th></th>\n",
       "      <th>col</th>\n",
       "      <th>f_score</th>\n",
       "      <th>p_value</th>\n",
       "      <th>p_sig</th>\n",
       "    </tr>\n",
       "  </thead>\n",
       "  <tbody>\n",
       "    <tr>\n",
       "      <th>0</th>\n",
       "      <td>activity</td>\n",
       "      <td>inf</td>\n",
       "      <td>0.000000e+00</td>\n",
       "      <td>Significant</td>\n",
       "    </tr>\n",
       "    <tr>\n",
       "      <th>1</th>\n",
       "      <td>acceleration_x</td>\n",
       "      <td>2.546240e+01</td>\n",
       "      <td>4.520778e-07</td>\n",
       "      <td>Significant</td>\n",
       "    </tr>\n",
       "    <tr>\n",
       "      <th>2</th>\n",
       "      <td>acceleration_y</td>\n",
       "      <td>5.501001e+04</td>\n",
       "      <td>0.000000e+00</td>\n",
       "      <td>Significant</td>\n",
       "    </tr>\n",
       "    <tr>\n",
       "      <th>3</th>\n",
       "      <td>acceleration_z</td>\n",
       "      <td>3.093820e+03</td>\n",
       "      <td>0.000000e+00</td>\n",
       "      <td>Significant</td>\n",
       "    </tr>\n",
       "    <tr>\n",
       "      <th>4</th>\n",
       "      <td>gyro_x</td>\n",
       "      <td>1.468447e+02</td>\n",
       "      <td>9.086806e-34</td>\n",
       "      <td>Significant</td>\n",
       "    </tr>\n",
       "    <tr>\n",
       "      <th>5</th>\n",
       "      <td>gyro_y</td>\n",
       "      <td>1.382455e+01</td>\n",
       "      <td>2.008341e-04</td>\n",
       "      <td>Significant</td>\n",
       "    </tr>\n",
       "    <tr>\n",
       "      <th>6</th>\n",
       "      <td>gyro_z</td>\n",
       "      <td>3.809634e+00</td>\n",
       "      <td>5.096208e-02</td>\n",
       "      <td>Not Significant</td>\n",
       "    </tr>\n",
       "  </tbody>\n",
       "</table>\n",
       "</div>"
      ],
      "text/plain": [
       "              col       f_score       p_value            p_sig\n",
       "0        activity           inf  0.000000e+00      Significant\n",
       "1  acceleration_x  2.546240e+01  4.520778e-07      Significant\n",
       "2  acceleration_y  5.501001e+04  0.000000e+00      Significant\n",
       "3  acceleration_z  3.093820e+03  0.000000e+00      Significant\n",
       "4          gyro_x  1.468447e+02  9.086806e-34      Significant\n",
       "5          gyro_y  1.382455e+01  2.008341e-04      Significant\n",
       "6          gyro_z  3.809634e+00  5.096208e-02  Not Significant"
      ]
     },
     "execution_count": 18,
     "metadata": {},
     "output_type": "execute_result"
    }
   ],
   "source": [
    "p_sig = []\n",
    "for i in range(len(f_sco)):\n",
    "    if(f_sco['p_value'][i] <= 0.05):\n",
    "        p_sig.append('Significant')\n",
    "    else:\n",
    "        p_sig.append('Not Significant')\n",
    "        \n",
    "f_sco['p_sig'] = p_sig\n",
    "f_sco"
   ]
  },
  {
   "cell_type": "code",
   "execution_count": 19,
   "id": "bec78b9f",
   "metadata": {
    "execution": {
     "iopub.execute_input": "2022-02-01T16:45:44.137110Z",
     "iopub.status.busy": "2022-02-01T16:45:44.126125Z",
     "iopub.status.idle": "2022-02-01T16:45:44.141255Z",
     "shell.execute_reply": "2022-02-01T16:45:44.140696Z",
     "shell.execute_reply.started": "2022-02-01T16:32:15.929181Z"
    },
    "papermill": {
     "duration": 0.063163,
     "end_time": "2022-02-01T16:45:44.141409",
     "exception": false,
     "start_time": "2022-02-01T16:45:44.078246",
     "status": "completed"
    },
    "tags": []
   },
   "outputs": [
    {
     "data": {
      "text/html": [
       "<div>\n",
       "<style scoped>\n",
       "    .dataframe tbody tr th:only-of-type {\n",
       "        vertical-align: middle;\n",
       "    }\n",
       "\n",
       "    .dataframe tbody tr th {\n",
       "        vertical-align: top;\n",
       "    }\n",
       "\n",
       "    .dataframe thead th {\n",
       "        text-align: right;\n",
       "    }\n",
       "</style>\n",
       "<table border=\"1\" class=\"dataframe\">\n",
       "  <thead>\n",
       "    <tr style=\"text-align: right;\">\n",
       "      <th></th>\n",
       "      <th>col</th>\n",
       "      <th>f_score</th>\n",
       "      <th>p_value</th>\n",
       "      <th>p_sig</th>\n",
       "    </tr>\n",
       "  </thead>\n",
       "  <tbody>\n",
       "    <tr>\n",
       "      <th>0</th>\n",
       "      <td>activity</td>\n",
       "      <td>inf</td>\n",
       "      <td>0.000000e+00</td>\n",
       "      <td>Significant</td>\n",
       "    </tr>\n",
       "    <tr>\n",
       "      <th>1</th>\n",
       "      <td>acceleration_y</td>\n",
       "      <td>5.501001e+04</td>\n",
       "      <td>0.000000e+00</td>\n",
       "      <td>Significant</td>\n",
       "    </tr>\n",
       "    <tr>\n",
       "      <th>2</th>\n",
       "      <td>acceleration_z</td>\n",
       "      <td>3.093820e+03</td>\n",
       "      <td>0.000000e+00</td>\n",
       "      <td>Significant</td>\n",
       "    </tr>\n",
       "    <tr>\n",
       "      <th>3</th>\n",
       "      <td>gyro_x</td>\n",
       "      <td>1.468447e+02</td>\n",
       "      <td>9.086806e-34</td>\n",
       "      <td>Significant</td>\n",
       "    </tr>\n",
       "    <tr>\n",
       "      <th>4</th>\n",
       "      <td>acceleration_x</td>\n",
       "      <td>2.546240e+01</td>\n",
       "      <td>4.520778e-07</td>\n",
       "      <td>Significant</td>\n",
       "    </tr>\n",
       "    <tr>\n",
       "      <th>5</th>\n",
       "      <td>gyro_y</td>\n",
       "      <td>1.382455e+01</td>\n",
       "      <td>2.008341e-04</td>\n",
       "      <td>Significant</td>\n",
       "    </tr>\n",
       "    <tr>\n",
       "      <th>6</th>\n",
       "      <td>gyro_z</td>\n",
       "      <td>3.809634e+00</td>\n",
       "      <td>5.096208e-02</td>\n",
       "      <td>Not Significant</td>\n",
       "    </tr>\n",
       "  </tbody>\n",
       "</table>\n",
       "</div>"
      ],
      "text/plain": [
       "              col       f_score       p_value            p_sig\n",
       "0        activity           inf  0.000000e+00      Significant\n",
       "1  acceleration_y  5.501001e+04  0.000000e+00      Significant\n",
       "2  acceleration_z  3.093820e+03  0.000000e+00      Significant\n",
       "3          gyro_x  1.468447e+02  9.086806e-34      Significant\n",
       "4  acceleration_x  2.546240e+01  4.520778e-07      Significant\n",
       "5          gyro_y  1.382455e+01  2.008341e-04      Significant\n",
       "6          gyro_z  3.809634e+00  5.096208e-02  Not Significant"
      ]
     },
     "execution_count": 19,
     "metadata": {},
     "output_type": "execute_result"
    }
   ],
   "source": [
    "f_sco = f_sco.sort_values(by=['f_score'],ascending=False)\n",
    "f_sco = f_sco.reset_index(drop=True)\n",
    "f_sco"
   ]
  },
  {
   "cell_type": "code",
   "execution_count": 20,
   "id": "9e2f54e6",
   "metadata": {
    "execution": {
     "iopub.execute_input": "2022-02-01T16:45:44.244171Z",
     "iopub.status.busy": "2022-02-01T16:45:44.243312Z",
     "iopub.status.idle": "2022-02-01T16:45:44.456346Z",
     "shell.execute_reply": "2022-02-01T16:45:44.455665Z",
     "shell.execute_reply.started": "2022-02-01T16:32:15.953085Z"
    },
    "papermill": {
     "duration": 0.269296,
     "end_time": "2022-02-01T16:45:44.456489",
     "exception": false,
     "start_time": "2022-02-01T16:45:44.187193",
     "status": "completed"
    },
    "tags": []
   },
   "outputs": [
    {
     "data": {
      "text/plain": [
       "Text(0, 0.5, 'f_score')"
      ]
     },
     "execution_count": 20,
     "metadata": {},
     "output_type": "execute_result"
    },
    {
     "data": {
      "image/png": "[encoded data removed]",
      "text/plain": [
       "<Figure size 432x288 with 1 Axes>"
      ]
     },
     "metadata": {
      "needs_background": "light"
     },
     "output_type": "display_data"
    }
   ],
   "source": [
    "plt.bar(f_sco['col'],f_sco['f_score'])\n",
    "plt.xticks(rotation=90)\n",
    "plt.xlabel('col')\n",
    "plt.ylabel('f_score')"
   ]
  },
  {
   "cell_type": "code",
   "execution_count": 21,
   "id": "72cf5c19",
   "metadata": {
    "execution": {
     "iopub.execute_input": "2022-02-01T16:45:44.562468Z",
     "iopub.status.busy": "2022-02-01T16:45:44.561433Z",
     "iopub.status.idle": "2022-02-01T16:45:44.565723Z",
     "shell.execute_reply": "2022-02-01T16:45:44.565073Z",
     "shell.execute_reply.started": "2022-02-01T16:32:16.128796Z"
    },
    "papermill": {
     "duration": 0.06304,
     "end_time": "2022-02-01T16:45:44.565868",
     "exception": false,
     "start_time": "2022-02-01T16:45:44.502828",
     "status": "completed"
    },
    "tags": []
   },
   "outputs": [
    {
     "data": {
      "text/html": [
       "<div>\n",
       "<style scoped>\n",
       "    .dataframe tbody tr th:only-of-type {\n",
       "        vertical-align: middle;\n",
       "    }\n",
       "\n",
       "    .dataframe tbody tr th {\n",
       "        vertical-align: top;\n",
       "    }\n",
       "\n",
       "    .dataframe thead th {\n",
       "        text-align: right;\n",
       "    }\n",
       "</style>\n",
       "<table border=\"1\" class=\"dataframe\">\n",
       "  <thead>\n",
       "    <tr style=\"text-align: right;\">\n",
       "      <th></th>\n",
       "      <th>col</th>\n",
       "      <th>f_score</th>\n",
       "      <th>p_value</th>\n",
       "      <th>p_sig</th>\n",
       "    </tr>\n",
       "  </thead>\n",
       "  <tbody>\n",
       "    <tr>\n",
       "      <th>2</th>\n",
       "      <td>acceleration_z</td>\n",
       "      <td>3093.820143</td>\n",
       "      <td>0.000000e+00</td>\n",
       "      <td>Significant</td>\n",
       "    </tr>\n",
       "    <tr>\n",
       "      <th>3</th>\n",
       "      <td>gyro_x</td>\n",
       "      <td>146.844687</td>\n",
       "      <td>9.086806e-34</td>\n",
       "      <td>Significant</td>\n",
       "    </tr>\n",
       "    <tr>\n",
       "      <th>4</th>\n",
       "      <td>acceleration_x</td>\n",
       "      <td>25.462401</td>\n",
       "      <td>4.520778e-07</td>\n",
       "      <td>Significant</td>\n",
       "    </tr>\n",
       "    <tr>\n",
       "      <th>5</th>\n",
       "      <td>gyro_y</td>\n",
       "      <td>13.824549</td>\n",
       "      <td>2.008341e-04</td>\n",
       "      <td>Significant</td>\n",
       "    </tr>\n",
       "    <tr>\n",
       "      <th>6</th>\n",
       "      <td>gyro_z</td>\n",
       "      <td>3.809634</td>\n",
       "      <td>5.096208e-02</td>\n",
       "      <td>Not Significant</td>\n",
       "    </tr>\n",
       "  </tbody>\n",
       "</table>\n",
       "</div>"
      ],
      "text/plain": [
       "              col      f_score       p_value            p_sig\n",
       "2  acceleration_z  3093.820143  0.000000e+00      Significant\n",
       "3          gyro_x   146.844687  9.086806e-34      Significant\n",
       "4  acceleration_x    25.462401  4.520778e-07      Significant\n",
       "5          gyro_y    13.824549  2.008341e-04      Significant\n",
       "6          gyro_z     3.809634  5.096208e-02  Not Significant"
      ]
     },
     "execution_count": 21,
     "metadata": {},
     "output_type": "execute_result"
    }
   ],
   "source": [
    "f_sco1 = f_sco.iloc[2:,:]\n",
    "f_sco1"
   ]
  },
  {
   "cell_type": "code",
   "execution_count": 22,
   "id": "1b381318",
   "metadata": {
    "execution": {
     "iopub.execute_input": "2022-02-01T16:45:44.667971Z",
     "iopub.status.busy": "2022-02-01T16:45:44.667278Z",
     "iopub.status.idle": "2022-02-01T16:45:44.848305Z",
     "shell.execute_reply": "2022-02-01T16:45:44.847595Z",
     "shell.execute_reply.started": "2022-02-01T16:32:16.146430Z"
    },
    "papermill": {
     "duration": 0.235257,
     "end_time": "2022-02-01T16:45:44.848467",
     "exception": false,
     "start_time": "2022-02-01T16:45:44.613210",
     "status": "completed"
    },
    "tags": []
   },
   "outputs": [
    {
     "data": {
      "image/png": "[encoded data removed]",
      "text/plain": [
       "<Figure size 432x288 with 1 Axes>"
      ]
     },
     "metadata": {
      "needs_background": "light"
     },
     "output_type": "display_data"
    }
   ],
   "source": [
    "plt.bar(f_sco1['col'],f_sco1['f_score'])\n",
    "plt.xlabel('col')\n",
    "plt.ylabel('f_score')\n",
    "plt.xticks(rotation=90)\n",
    "plt.show()"
   ]
  },
  {
   "cell_type": "markdown",
   "id": "4038d120",
   "metadata": {
    "execution": {
     "iopub.execute_input": "2022-02-01T14:46:41.369054Z",
     "iopub.status.busy": "2022-02-01T14:46:41.368677Z",
     "iopub.status.idle": "2022-02-01T14:46:41.373116Z",
     "shell.execute_reply": "2022-02-01T14:46:41.372262Z",
     "shell.execute_reply.started": "2022-02-01T14:46:41.368993Z"
    },
    "papermill": {
     "duration": 0.048653,
     "end_time": "2022-02-01T16:45:44.945950",
     "exception": false,
     "start_time": "2022-02-01T16:45:44.897297",
     "status": "completed"
    },
    "tags": []
   },
   "source": [
    "#### From the above values it is avident that acceleration_y is the most dominant feature and acceleration_z to an extent so we are only considering jsut these two from numerical features."
   ]
  },
  {
   "cell_type": "code",
   "execution_count": 23,
   "id": "deabc9c5",
   "metadata": {
    "execution": {
     "iopub.execute_input": "2022-02-01T16:45:45.055978Z",
     "iopub.status.busy": "2022-02-01T16:45:45.054895Z",
     "iopub.status.idle": "2022-02-01T16:45:45.062004Z",
     "shell.execute_reply": "2022-02-01T16:45:45.062740Z",
     "shell.execute_reply.started": "2022-02-01T16:32:16.287807Z"
    },
    "papermill": {
     "duration": 0.068431,
     "end_time": "2022-02-01T16:45:45.062930",
     "exception": false,
     "start_time": "2022-02-01T16:45:44.994499",
     "status": "completed"
    },
    "tags": []
   },
   "outputs": [
    {
     "data": {
      "text/html": [
       "<div>\n",
       "<style scoped>\n",
       "    .dataframe tbody tr th:only-of-type {\n",
       "        vertical-align: middle;\n",
       "    }\n",
       "\n",
       "    .dataframe tbody tr th {\n",
       "        vertical-align: top;\n",
       "    }\n",
       "\n",
       "    .dataframe thead th {\n",
       "        text-align: right;\n",
       "    }\n",
       "</style>\n",
       "<table border=\"1\" class=\"dataframe\">\n",
       "  <thead>\n",
       "    <tr style=\"text-align: right;\">\n",
       "      <th></th>\n",
       "      <th>wrist</th>\n",
       "      <th>activity</th>\n",
       "    </tr>\n",
       "  </thead>\n",
       "  <tbody>\n",
       "    <tr>\n",
       "      <th>0</th>\n",
       "      <td>1</td>\n",
       "      <td>0</td>\n",
       "    </tr>\n",
       "    <tr>\n",
       "      <th>1</th>\n",
       "      <td>0</td>\n",
       "      <td>1</td>\n",
       "    </tr>\n",
       "    <tr>\n",
       "      <th>2</th>\n",
       "      <td>0</td>\n",
       "      <td>1</td>\n",
       "    </tr>\n",
       "    <tr>\n",
       "      <th>3</th>\n",
       "      <td>0</td>\n",
       "      <td>1</td>\n",
       "    </tr>\n",
       "    <tr>\n",
       "      <th>4</th>\n",
       "      <td>0</td>\n",
       "      <td>1</td>\n",
       "    </tr>\n",
       "    <tr>\n",
       "      <th>...</th>\n",
       "      <td>...</td>\n",
       "      <td>...</td>\n",
       "    </tr>\n",
       "    <tr>\n",
       "      <th>79724</th>\n",
       "      <td>1</td>\n",
       "      <td>1</td>\n",
       "    </tr>\n",
       "    <tr>\n",
       "      <th>79725</th>\n",
       "      <td>1</td>\n",
       "      <td>1</td>\n",
       "    </tr>\n",
       "    <tr>\n",
       "      <th>79726</th>\n",
       "      <td>0</td>\n",
       "      <td>0</td>\n",
       "    </tr>\n",
       "    <tr>\n",
       "      <th>79727</th>\n",
       "      <td>1</td>\n",
       "      <td>0</td>\n",
       "    </tr>\n",
       "    <tr>\n",
       "      <th>79728</th>\n",
       "      <td>1</td>\n",
       "      <td>0</td>\n",
       "    </tr>\n",
       "  </tbody>\n",
       "</table>\n",
       "<p>79729 rows × 2 columns</p>\n",
       "</div>"
      ],
      "text/plain": [
       "       wrist  activity\n",
       "0          1         0\n",
       "1          0         1\n",
       "2          0         1\n",
       "3          0         1\n",
       "4          0         1\n",
       "...      ...       ...\n",
       "79724      1         1\n",
       "79725      1         1\n",
       "79726      0         0\n",
       "79727      1         0\n",
       "79728      1         0\n",
       "\n",
       "[79729 rows x 2 columns]"
      ]
     },
     "execution_count": 23,
     "metadata": {},
     "output_type": "execute_result"
    }
   ],
   "source": [
    "df_cat"
   ]
  },
  {
   "cell_type": "code",
   "execution_count": 24,
   "id": "929ee3c9",
   "metadata": {
    "execution": {
     "iopub.execute_input": "2022-02-01T16:45:45.165277Z",
     "iopub.status.busy": "2022-02-01T16:45:45.164250Z",
     "iopub.status.idle": "2022-02-01T16:45:45.191980Z",
     "shell.execute_reply": "2022-02-01T16:45:45.191414Z",
     "shell.execute_reply.started": "2022-02-01T16:32:16.304208Z"
    },
    "papermill": {
     "duration": 0.079546,
     "end_time": "2022-02-01T16:45:45.192138",
     "exception": false,
     "start_time": "2022-02-01T16:45:45.112592",
     "status": "completed"
    },
    "tags": []
   },
   "outputs": [
    {
     "data": {
      "text/plain": [
       "(array([495.67827018]), array([8.28513456e-110]))"
      ]
     },
     "execution_count": 24,
     "metadata": {},
     "output_type": "execute_result"
    }
   ],
   "source": [
    "# Since both input and output are categorical, we use chi2\n",
    "\n",
    "from sklearn.feature_selection import chi2\n",
    "\n",
    "chi2 = chi2(df_cat[['wrist']],df_cat['activity'])\n",
    "\n",
    "chi2"
   ]
  },
  {
   "cell_type": "code",
   "execution_count": 25,
   "id": "773e562e",
   "metadata": {
    "execution": {
     "iopub.execute_input": "2022-02-01T16:45:45.295493Z",
     "iopub.status.busy": "2022-02-01T16:45:45.294480Z",
     "iopub.status.idle": "2022-02-01T16:45:45.298720Z",
     "shell.execute_reply": "2022-02-01T16:45:45.299273Z",
     "shell.execute_reply.started": "2022-02-01T16:32:16.334224Z"
    },
    "papermill": {
     "duration": 0.056929,
     "end_time": "2022-02-01T16:45:45.299477",
     "exception": false,
     "start_time": "2022-02-01T16:45:45.242548",
     "status": "completed"
    },
    "tags": []
   },
   "outputs": [
    {
     "name": "stdout",
     "output_type": "stream",
     "text": [
      "significant\n"
     ]
    }
   ],
   "source": [
    "if(chi2[1][0] <= 0.05):\n",
    "    print('significant')\n",
    "else:\n",
    "    print('Not Significant')"
   ]
  },
  {
   "cell_type": "markdown",
   "id": "21dfa5b5",
   "metadata": {
    "papermill": {
     "duration": 0.048111,
     "end_time": "2022-02-01T16:45:45.397550",
     "exception": false,
     "start_time": "2022-02-01T16:45:45.349439",
     "status": "completed"
    },
    "tags": []
   },
   "source": [
    "#### Since there are no other categorical features to compare with, we are going to use this feature in addition to other features."
   ]
  },
  {
   "cell_type": "code",
   "execution_count": 26,
   "id": "6023943d",
   "metadata": {
    "execution": {
     "iopub.execute_input": "2022-02-01T16:45:45.501952Z",
     "iopub.status.busy": "2022-02-01T16:45:45.501281Z",
     "iopub.status.idle": "2022-02-01T16:45:45.511428Z",
     "shell.execute_reply": "2022-02-01T16:45:45.510849Z",
     "shell.execute_reply.started": "2022-02-01T16:32:16.343684Z"
    },
    "papermill": {
     "duration": 0.064165,
     "end_time": "2022-02-01T16:45:45.511597",
     "exception": false,
     "start_time": "2022-02-01T16:45:45.447432",
     "status": "completed"
    },
    "tags": []
   },
   "outputs": [
    {
     "data": {
      "text/plain": [
       "['acceleration_y', 'acceleration_z']"
      ]
     },
     "execution_count": 26,
     "metadata": {},
     "output_type": "execute_result"
    }
   ],
   "source": [
    "f_sco = f_sco.drop(0)\n",
    "f_sco = f_sco.loc[f_sco['f_score'] > 3000]\n",
    "\n",
    "f_sco_sel = f_sco['col']\n",
    "\n",
    "f_sco_sel = f_sco_sel.to_list()\n",
    "f_sco_sel"
   ]
  },
  {
   "cell_type": "code",
   "execution_count": 27,
   "id": "655f04eb",
   "metadata": {
    "execution": {
     "iopub.execute_input": "2022-02-01T16:45:45.615581Z",
     "iopub.status.busy": "2022-02-01T16:45:45.614694Z",
     "iopub.status.idle": "2022-02-01T16:45:45.618087Z",
     "shell.execute_reply": "2022-02-01T16:45:45.617280Z",
     "shell.execute_reply.started": "2022-02-01T16:32:16.366455Z"
    },
    "papermill": {
     "duration": 0.058018,
     "end_time": "2022-02-01T16:45:45.618522",
     "exception": false,
     "start_time": "2022-02-01T16:45:45.560504",
     "status": "completed"
    },
    "tags": []
   },
   "outputs": [],
   "source": [
    "f_sco_sel.append('wrist')\n",
    "f_sco_sel.append('activity')"
   ]
  },
  {
   "cell_type": "code",
   "execution_count": 28,
   "id": "f0afc2bc",
   "metadata": {
    "execution": {
     "iopub.execute_input": "2022-02-01T16:45:45.724268Z",
     "iopub.status.busy": "2022-02-01T16:45:45.723598Z",
     "iopub.status.idle": "2022-02-01T16:45:45.728098Z",
     "shell.execute_reply": "2022-02-01T16:45:45.728703Z",
     "shell.execute_reply.started": "2022-02-01T16:32:16.379189Z"
    },
    "papermill": {
     "duration": 0.058369,
     "end_time": "2022-02-01T16:45:45.728893",
     "exception": false,
     "start_time": "2022-02-01T16:45:45.670524",
     "status": "completed"
    },
    "tags": []
   },
   "outputs": [
    {
     "data": {
      "text/plain": [
       "['acceleration_y', 'acceleration_z', 'wrist', 'activity']"
      ]
     },
     "execution_count": 28,
     "metadata": {},
     "output_type": "execute_result"
    }
   ],
   "source": [
    "f_sco_sel"
   ]
  },
  {
   "cell_type": "code",
   "execution_count": 29,
   "id": "6b4bc61d",
   "metadata": {
    "execution": {
     "iopub.execute_input": "2022-02-01T16:45:45.834592Z",
     "iopub.status.busy": "2022-02-01T16:45:45.833893Z",
     "iopub.status.idle": "2022-02-01T16:45:45.847343Z",
     "shell.execute_reply": "2022-02-01T16:45:45.846793Z",
     "shell.execute_reply.started": "2022-02-01T16:32:16.399429Z"
    },
    "papermill": {
     "duration": 0.067904,
     "end_time": "2022-02-01T16:45:45.847519",
     "exception": false,
     "start_time": "2022-02-01T16:45:45.779615",
     "status": "completed"
    },
    "tags": []
   },
   "outputs": [
    {
     "data": {
      "text/html": [
       "<div>\n",
       "<style scoped>\n",
       "    .dataframe tbody tr th:only-of-type {\n",
       "        vertical-align: middle;\n",
       "    }\n",
       "\n",
       "    .dataframe tbody tr th {\n",
       "        vertical-align: top;\n",
       "    }\n",
       "\n",
       "    .dataframe thead th {\n",
       "        text-align: right;\n",
       "    }\n",
       "</style>\n",
       "<table border=\"1\" class=\"dataframe\">\n",
       "  <thead>\n",
       "    <tr style=\"text-align: right;\">\n",
       "      <th></th>\n",
       "      <th>acceleration_y</th>\n",
       "      <th>acceleration_z</th>\n",
       "      <th>wrist</th>\n",
       "      <th>activity</th>\n",
       "    </tr>\n",
       "  </thead>\n",
       "  <tbody>\n",
       "    <tr>\n",
       "      <th>0</th>\n",
       "      <td>-0.8474</td>\n",
       "      <td>-0.3257</td>\n",
       "      <td>1</td>\n",
       "      <td>0</td>\n",
       "    </tr>\n",
       "    <tr>\n",
       "      <th>1</th>\n",
       "      <td>0.1967</td>\n",
       "      <td>-0.2684</td>\n",
       "      <td>0</td>\n",
       "      <td>1</td>\n",
       "    </tr>\n",
       "    <tr>\n",
       "      <th>2</th>\n",
       "      <td>0.5164</td>\n",
       "      <td>-0.4528</td>\n",
       "      <td>0</td>\n",
       "      <td>1</td>\n",
       "    </tr>\n",
       "    <tr>\n",
       "      <th>3</th>\n",
       "      <td>0.5867</td>\n",
       "      <td>0.0250</td>\n",
       "      <td>0</td>\n",
       "      <td>1</td>\n",
       "    </tr>\n",
       "    <tr>\n",
       "      <th>4</th>\n",
       "      <td>0.7209</td>\n",
       "      <td>-0.2858</td>\n",
       "      <td>0</td>\n",
       "      <td>1</td>\n",
       "    </tr>\n",
       "  </tbody>\n",
       "</table>\n",
       "</div>"
      ],
      "text/plain": [
       "   acceleration_y  acceleration_z  wrist  activity\n",
       "0         -0.8474         -0.3257      1         0\n",
       "1          0.1967         -0.2684      0         1\n",
       "2          0.5164         -0.4528      0         1\n",
       "3          0.5867          0.0250      0         1\n",
       "4          0.7209         -0.2858      0         1"
      ]
     },
     "execution_count": 29,
     "metadata": {},
     "output_type": "execute_result"
    }
   ],
   "source": [
    "df_else = df_else[f_sco_sel]\n",
    "df_test = df_test[f_sco_sel]\n",
    "\n",
    "df_else.head()"
   ]
  },
  {
   "cell_type": "code",
   "execution_count": 30,
   "id": "99d3cb19",
   "metadata": {
    "execution": {
     "iopub.execute_input": "2022-02-01T16:45:45.951513Z",
     "iopub.status.busy": "2022-02-01T16:45:45.950776Z",
     "iopub.status.idle": "2022-02-01T16:45:45.961845Z",
     "shell.execute_reply": "2022-02-01T16:45:45.961188Z",
     "shell.execute_reply.started": "2022-02-01T16:32:16.415372Z"
    },
    "papermill": {
     "duration": 0.0645,
     "end_time": "2022-02-01T16:45:45.962010",
     "exception": false,
     "start_time": "2022-02-01T16:45:45.897510",
     "status": "completed"
    },
    "tags": []
   },
   "outputs": [
    {
     "data": {
      "text/html": [
       "<div>\n",
       "<style scoped>\n",
       "    .dataframe tbody tr th:only-of-type {\n",
       "        vertical-align: middle;\n",
       "    }\n",
       "\n",
       "    .dataframe tbody tr th {\n",
       "        vertical-align: top;\n",
       "    }\n",
       "\n",
       "    .dataframe thead th {\n",
       "        text-align: right;\n",
       "    }\n",
       "</style>\n",
       "<table border=\"1\" class=\"dataframe\">\n",
       "  <thead>\n",
       "    <tr style=\"text-align: right;\">\n",
       "      <th></th>\n",
       "      <th>acceleration_y</th>\n",
       "      <th>acceleration_z</th>\n",
       "      <th>wrist</th>\n",
       "      <th>activity</th>\n",
       "    </tr>\n",
       "  </thead>\n",
       "  <tbody>\n",
       "    <tr>\n",
       "      <th>0</th>\n",
       "      <td>-0.7814</td>\n",
       "      <td>-0.0076</td>\n",
       "      <td>0</td>\n",
       "      <td>0</td>\n",
       "    </tr>\n",
       "    <tr>\n",
       "      <th>1</th>\n",
       "      <td>-1.1574</td>\n",
       "      <td>-0.0172</td>\n",
       "      <td>0</td>\n",
       "      <td>0</td>\n",
       "    </tr>\n",
       "    <tr>\n",
       "      <th>2</th>\n",
       "      <td>-0.7421</td>\n",
       "      <td>-0.0549</td>\n",
       "      <td>0</td>\n",
       "      <td>0</td>\n",
       "    </tr>\n",
       "    <tr>\n",
       "      <th>3</th>\n",
       "      <td>-0.7532</td>\n",
       "      <td>-0.2972</td>\n",
       "      <td>0</td>\n",
       "      <td>0</td>\n",
       "    </tr>\n",
       "    <tr>\n",
       "      <th>4</th>\n",
       "      <td>-0.8049</td>\n",
       "      <td>-0.1815</td>\n",
       "      <td>0</td>\n",
       "      <td>0</td>\n",
       "    </tr>\n",
       "  </tbody>\n",
       "</table>\n",
       "</div>"
      ],
      "text/plain": [
       "   acceleration_y  acceleration_z  wrist  activity\n",
       "0         -0.7814         -0.0076      0         0\n",
       "1         -1.1574         -0.0172      0         0\n",
       "2         -0.7421         -0.0549      0         0\n",
       "3         -0.7532         -0.2972      0         0\n",
       "4         -0.8049         -0.1815      0         0"
      ]
     },
     "execution_count": 30,
     "metadata": {},
     "output_type": "execute_result"
    }
   ],
   "source": [
    "df_test.head()"
   ]
  },
  {
   "cell_type": "code",
   "execution_count": 31,
   "id": "b662ee34",
   "metadata": {
    "execution": {
     "iopub.execute_input": "2022-02-01T16:45:46.075200Z",
     "iopub.status.busy": "2022-02-01T16:45:46.074414Z",
     "iopub.status.idle": "2022-02-01T16:45:46.081918Z",
     "shell.execute_reply": "2022-02-01T16:45:46.082552Z",
     "shell.execute_reply.started": "2022-02-01T16:32:16.430072Z"
    },
    "papermill": {
     "duration": 0.06679,
     "end_time": "2022-02-01T16:45:46.082739",
     "exception": false,
     "start_time": "2022-02-01T16:45:46.015949",
     "status": "completed"
    },
    "tags": []
   },
   "outputs": [
    {
     "data": {
      "text/plain": [
       "1    39891\n",
       "0    39838\n",
       "Name: activity, dtype: int64"
      ]
     },
     "execution_count": 31,
     "metadata": {},
     "output_type": "execute_result"
    }
   ],
   "source": [
    "df_else['activity'].value_counts()"
   ]
  },
  {
   "cell_type": "markdown",
   "id": "eb0a6d00",
   "metadata": {
    "papermill": {
     "duration": 0.050722,
     "end_time": "2022-02-01T16:45:46.186261",
     "exception": false,
     "start_time": "2022-02-01T16:45:46.135539",
     "status": "completed"
    },
    "tags": []
   },
   "source": [
    "#### Since the value counts show that is if almost perfectly balanced dataset, we need not use any balncing algorithms."
   ]
  },
  {
   "cell_type": "code",
   "execution_count": 32,
   "id": "b96bc841",
   "metadata": {
    "execution": {
     "iopub.execute_input": "2022-02-01T16:45:46.292769Z",
     "iopub.status.busy": "2022-02-01T16:45:46.292060Z",
     "iopub.status.idle": "2022-02-01T16:45:46.508867Z",
     "shell.execute_reply": "2022-02-01T16:45:46.508284Z",
     "shell.execute_reply.started": "2022-02-01T16:32:16.440168Z"
    },
    "papermill": {
     "duration": 0.271225,
     "end_time": "2022-02-01T16:45:46.509034",
     "exception": false,
     "start_time": "2022-02-01T16:45:46.237809",
     "status": "completed"
    },
    "tags": []
   },
   "outputs": [],
   "source": [
    "from numpy import mean\n",
    "from sklearn.ensemble import RandomForestClassifier\n",
    "from imblearn.ensemble import BalancedRandomForestClassifier\n",
    "from sklearn.naive_bayes import GaussianNB\n",
    "from sklearn.neighbors import KNeighborsClassifier\n",
    "from sklearn.model_selection import RepeatedStratifiedKFold\n",
    "from sklearn.model_selection import cross_val_score\n",
    "\n",
    "def rf(X,y):\n",
    "    model = RandomForestClassifier(n_estimators=10)\n",
    "    cv = RepeatedStratifiedKFold(n_splits=10,n_repeats=3,random_state=25)\n",
    "    scores = cross_val_score(model, X, y, scoring='balanced_accuracy', cv=cv, n_jobs=-1)\n",
    "    \n",
    "    m = mean(scores)\n",
    "    return m\n",
    "\n",
    "def brf(X,y):\n",
    "    model = BalancedRandomForestClassifier(n_estimators=10)\n",
    "    cv = RepeatedStratifiedKFold(n_splits=10,n_repeats=3, random_state=25)\n",
    "    scores = cross_val_score(model,X,y,scoring='balanced_accuracy',cv=cv,n_jobs=-1)\n",
    "    \n",
    "    m = mean(scores)\n",
    "    return m\n",
    "\n",
    "def gnb(X,y):\n",
    "    model = GaussianNB()\n",
    "    cv = RepeatedStratifiedKFold(n_splits=10,n_repeats=3,random_state=25)\n",
    "    scores = cross_val_score(model,X,y,scoring='balanced_accuracy',cv=cv,n_jobs=-1)\n",
    "    \n",
    "    m = mean(scores)\n",
    "    return m\n",
    "\n",
    "def nei(X,y):\n",
    "    model = KNeighborsClassifier()\n",
    "    cv = RepeatedStratifiedKFold(n_splits=10,n_repeats=3,random_state=25)\n",
    "    scores = cross_val_score(model,X,y,scoring='balanced_accuracy',cv=cv,n_jobs=-1)\n",
    "    \n",
    "    m = mean(scores)\n",
    "    return m"
   ]
  },
  {
   "cell_type": "code",
   "execution_count": 33,
   "id": "c9291800",
   "metadata": {
    "execution": {
     "iopub.execute_input": "2022-02-01T16:45:46.621348Z",
     "iopub.status.busy": "2022-02-01T16:45:46.620638Z",
     "iopub.status.idle": "2022-02-01T16:45:46.622996Z",
     "shell.execute_reply": "2022-02-01T16:45:46.623644Z",
     "shell.execute_reply.started": "2022-02-01T16:32:16.455597Z"
    },
    "papermill": {
     "duration": 0.060937,
     "end_time": "2022-02-01T16:45:46.623836",
     "exception": false,
     "start_time": "2022-02-01T16:45:46.562899",
     "status": "completed"
    },
    "tags": []
   },
   "outputs": [],
   "source": [
    "X = df_else.drop(columns=['activity'],axis=1)\n",
    "y = df_else['activity']"
   ]
  },
  {
   "cell_type": "code",
   "execution_count": 34,
   "id": "fbf11df4",
   "metadata": {
    "execution": {
     "iopub.execute_input": "2022-02-01T16:45:46.737201Z",
     "iopub.status.busy": "2022-02-01T16:45:46.736467Z",
     "iopub.status.idle": "2022-02-01T16:46:01.721679Z",
     "shell.execute_reply": "2022-02-01T16:46:01.722410Z",
     "shell.execute_reply.started": "2022-02-01T16:32:16.469209Z"
    },
    "papermill": {
     "duration": 15.043919,
     "end_time": "2022-02-01T16:46:01.722606",
     "exception": false,
     "start_time": "2022-02-01T16:45:46.678687",
     "status": "completed"
    },
    "tags": []
   },
   "outputs": [
    {
     "name": "stdout",
     "output_type": "stream",
     "text": [
      "0.9594200275194423\n"
     ]
    }
   ],
   "source": [
    "print(rf(X,y))"
   ]
  },
  {
   "cell_type": "code",
   "execution_count": 35,
   "id": "b9b3a507",
   "metadata": {
    "execution": {
     "iopub.execute_input": "2022-02-01T16:46:01.835301Z",
     "iopub.status.busy": "2022-02-01T16:46:01.834288Z",
     "iopub.status.idle": "2022-02-01T16:46:16.183416Z",
     "shell.execute_reply": "2022-02-01T16:46:16.182724Z",
     "shell.execute_reply.started": "2022-02-01T16:32:30.819910Z"
    },
    "papermill": {
     "duration": 14.40961,
     "end_time": "2022-02-01T16:46:16.183575",
     "exception": false,
     "start_time": "2022-02-01T16:46:01.773965",
     "status": "completed"
    },
    "tags": []
   },
   "outputs": [
    {
     "name": "stdout",
     "output_type": "stream",
     "text": [
      "0.9597255500179863\n"
     ]
    }
   ],
   "source": [
    "print(brf(X,y))"
   ]
  },
  {
   "cell_type": "code",
   "execution_count": 36,
   "id": "dd815aeb",
   "metadata": {
    "execution": {
     "iopub.execute_input": "2022-02-01T16:46:16.296411Z",
     "iopub.status.busy": "2022-02-01T16:46:16.295367Z",
     "iopub.status.idle": "2022-02-01T16:46:16.881686Z",
     "shell.execute_reply": "2022-02-01T16:46:16.880891Z",
     "shell.execute_reply.started": "2022-02-01T16:32:44.802173Z"
    },
    "papermill": {
     "duration": 0.644807,
     "end_time": "2022-02-01T16:46:16.881847",
     "exception": false,
     "start_time": "2022-02-01T16:46:16.237040",
     "status": "completed"
    },
    "tags": []
   },
   "outputs": [
    {
     "name": "stdout",
     "output_type": "stream",
     "text": [
      "0.9566567412508534\n"
     ]
    }
   ],
   "source": [
    "print(gnb(X,y))"
   ]
  },
  {
   "cell_type": "code",
   "execution_count": 37,
   "id": "25e4def2",
   "metadata": {
    "execution": {
     "iopub.execute_input": "2022-02-01T16:46:16.996633Z",
     "iopub.status.busy": "2022-02-01T16:46:16.995387Z",
     "iopub.status.idle": "2022-02-01T16:46:23.262772Z",
     "shell.execute_reply": "2022-02-01T16:46:23.261685Z",
     "shell.execute_reply.started": "2022-02-01T16:32:45.396192Z"
    },
    "papermill": {
     "duration": 6.327594,
     "end_time": "2022-02-01T16:46:23.262979",
     "exception": false,
     "start_time": "2022-02-01T16:46:16.935385",
     "status": "completed"
    },
    "tags": []
   },
   "outputs": [
    {
     "name": "stdout",
     "output_type": "stream",
     "text": [
      "0.960946101440363\n"
     ]
    }
   ],
   "source": [
    "print(nei(X,y))"
   ]
  },
  {
   "cell_type": "code",
   "execution_count": 38,
   "id": "d48f5a13",
   "metadata": {
    "execution": {
     "iopub.execute_input": "2022-02-01T16:46:23.416693Z",
     "iopub.status.busy": "2022-02-01T16:46:23.415686Z",
     "iopub.status.idle": "2022-02-01T16:47:26.994444Z",
     "shell.execute_reply": "2022-02-01T16:47:26.994963Z",
     "shell.execute_reply.started": "2022-02-01T16:32:51.651579Z"
    },
    "papermill": {
     "duration": 63.66405,
     "end_time": "2022-02-01T16:47:26.995149",
     "exception": false,
     "start_time": "2022-02-01T16:46:23.331099",
     "status": "completed"
    },
    "tags": []
   },
   "outputs": [
    {
     "name": "stderr",
     "output_type": "stream",
     "text": [
      "/opt/conda/lib/python3.7/site-packages/sklearn/model_selection/_search.py:282: UserWarning: The total space of parameters 6 is smaller than n_iter=10. Running 6 iterations. For exhaustive searches, use GridSearchCV.\n",
      "  % (grid_size, self.n_iter, grid_size), UserWarning)\n"
     ]
    },
    {
     "data": {
      "text/plain": [
       "RandomizedSearchCV(cv=3, estimator=KNeighborsClassifier(),\n",
       "                   param_distributions={'n_neighbors': [1, 10, 20],\n",
       "                                        'p': [1, 2]},\n",
       "                   return_train_score=True)"
      ]
     },
     "execution_count": 38,
     "metadata": {},
     "output_type": "execute_result"
    }
   ],
   "source": [
    "from sklearn.model_selection import RandomizedSearchCV\n",
    "\n",
    "model = KNeighborsClassifier()\n",
    "\n",
    "params_grid = {\n",
    "    'n_neighbors':[1,10,20],\n",
    "    'p':[1,2]\n",
    "}\n",
    "\n",
    "rnd_search_cv = RandomizedSearchCV(model,params_grid,n_iter=10,cv=3,return_train_score=True)\n",
    "rnd_search_cv.fit(X,y)"
   ]
  },
  {
   "cell_type": "code",
   "execution_count": 39,
   "id": "c932f742",
   "metadata": {
    "execution": {
     "iopub.execute_input": "2022-02-01T16:47:27.108688Z",
     "iopub.status.busy": "2022-02-01T16:47:27.107655Z",
     "iopub.status.idle": "2022-02-01T16:47:27.113141Z",
     "shell.execute_reply": "2022-02-01T16:47:27.113708Z",
     "shell.execute_reply.started": "2022-02-01T16:33:52.962947Z"
    },
    "papermill": {
     "duration": 0.065794,
     "end_time": "2022-02-01T16:47:27.113880",
     "exception": false,
     "start_time": "2022-02-01T16:47:27.048086",
     "status": "completed"
    },
    "tags": []
   },
   "outputs": [
    {
     "data": {
      "text/plain": [
       "{'p': 1, 'n_neighbors': 20}"
      ]
     },
     "execution_count": 39,
     "metadata": {},
     "output_type": "execute_result"
    }
   ],
   "source": [
    "rnd_search_cv.best_params_"
   ]
  },
  {
   "cell_type": "code",
   "execution_count": 40,
   "id": "507b2ec2",
   "metadata": {
    "execution": {
     "iopub.execute_input": "2022-02-01T16:47:27.224675Z",
     "iopub.status.busy": "2022-02-01T16:47:27.223700Z",
     "iopub.status.idle": "2022-02-01T16:47:27.227441Z",
     "shell.execute_reply": "2022-02-01T16:47:27.228035Z",
     "shell.execute_reply.started": "2022-02-01T16:33:52.969570Z"
    },
    "papermill": {
     "duration": 0.06174,
     "end_time": "2022-02-01T16:47:27.228204",
     "exception": false,
     "start_time": "2022-02-01T16:47:27.166464",
     "status": "completed"
    },
    "tags": []
   },
   "outputs": [],
   "source": [
    "final_model = rnd_search_cv.best_estimator_"
   ]
  },
  {
   "cell_type": "code",
   "execution_count": 41,
   "id": "a949bb8f",
   "metadata": {
    "execution": {
     "iopub.execute_input": "2022-02-01T16:47:27.344962Z",
     "iopub.status.busy": "2022-02-01T16:47:27.343985Z",
     "iopub.status.idle": "2022-02-01T16:47:27.348733Z",
     "shell.execute_reply": "2022-02-01T16:47:27.349210Z",
     "shell.execute_reply.started": "2022-02-01T16:33:52.983092Z"
    },
    "papermill": {
     "duration": 0.068502,
     "end_time": "2022-02-01T16:47:27.349416",
     "exception": false,
     "start_time": "2022-02-01T16:47:27.280914",
     "status": "completed"
    },
    "tags": []
   },
   "outputs": [],
   "source": [
    "df_test = df_test.reset_index(drop=True)"
   ]
  },
  {
   "cell_type": "code",
   "execution_count": 42,
   "id": "2d47b205",
   "metadata": {
    "execution": {
     "iopub.execute_input": "2022-02-01T16:47:27.459476Z",
     "iopub.status.busy": "2022-02-01T16:47:27.458773Z",
     "iopub.status.idle": "2022-02-01T16:47:27.900866Z",
     "shell.execute_reply": "2022-02-01T16:47:27.900322Z",
     "shell.execute_reply.started": "2022-02-01T16:33:52.994584Z"
    },
    "papermill": {
     "duration": 0.498486,
     "end_time": "2022-02-01T16:47:27.901082",
     "exception": false,
     "start_time": "2022-02-01T16:47:27.402596",
     "status": "completed"
    },
    "tags": []
   },
   "outputs": [
    {
     "data": {
      "text/html": [
       "<div>\n",
       "<style scoped>\n",
       "    .dataframe tbody tr th:only-of-type {\n",
       "        vertical-align: middle;\n",
       "    }\n",
       "\n",
       "    .dataframe tbody tr th {\n",
       "        vertical-align: top;\n",
       "    }\n",
       "\n",
       "    .dataframe thead th {\n",
       "        text-align: right;\n",
       "    }\n",
       "</style>\n",
       "<table border=\"1\" class=\"dataframe\">\n",
       "  <thead>\n",
       "    <tr style=\"text-align: right;\">\n",
       "      <th></th>\n",
       "      <th>true</th>\n",
       "      <th>pred</th>\n",
       "    </tr>\n",
       "  </thead>\n",
       "  <tbody>\n",
       "    <tr>\n",
       "      <th>0</th>\n",
       "      <td>0</td>\n",
       "      <td>0</td>\n",
       "    </tr>\n",
       "    <tr>\n",
       "      <th>1</th>\n",
       "      <td>0</td>\n",
       "      <td>0</td>\n",
       "    </tr>\n",
       "    <tr>\n",
       "      <th>2</th>\n",
       "      <td>0</td>\n",
       "      <td>0</td>\n",
       "    </tr>\n",
       "    <tr>\n",
       "      <th>3</th>\n",
       "      <td>0</td>\n",
       "      <td>0</td>\n",
       "    </tr>\n",
       "    <tr>\n",
       "      <th>4</th>\n",
       "      <td>0</td>\n",
       "      <td>0</td>\n",
       "    </tr>\n",
       "  </tbody>\n",
       "</table>\n",
       "</div>"
      ],
      "text/plain": [
       "   true  pred\n",
       "0     0     0\n",
       "1     0     0\n",
       "2     0     0\n",
       "3     0     0\n",
       "4     0     0"
      ]
     },
     "execution_count": 42,
     "metadata": {},
     "output_type": "execute_result"
    }
   ],
   "source": [
    "test_x = df_test.drop(columns=['activity'],axis=1)\n",
    "test_y = df_test['activity']\n",
    "\n",
    "pred = final_model.predict(test_x)\n",
    "\n",
    "prediction = pd.DataFrame(columns=['true','pred'])\n",
    "\n",
    "prediction['true'] = test_y\n",
    "prediction['pred'] = pred\n",
    "\n",
    "prediction.head()"
   ]
  },
  {
   "cell_type": "code",
   "execution_count": 43,
   "id": "8789dd56",
   "metadata": {
    "execution": {
     "iopub.execute_input": "2022-02-01T16:47:28.012143Z",
     "iopub.status.busy": "2022-02-01T16:47:28.011317Z",
     "iopub.status.idle": "2022-02-01T16:47:28.018443Z",
     "shell.execute_reply": "2022-02-01T16:47:28.018973Z",
     "shell.execute_reply.started": "2022-02-01T16:33:53.432412Z"
    },
    "papermill": {
     "duration": 0.063823,
     "end_time": "2022-02-01T16:47:28.019156",
     "exception": false,
     "start_time": "2022-02-01T16:47:27.955333",
     "status": "completed"
    },
    "tags": []
   },
   "outputs": [
    {
     "data": {
      "text/plain": [
       "0.9616209504458743"
      ]
     },
     "execution_count": 43,
     "metadata": {},
     "output_type": "execute_result"
    }
   ],
   "source": [
    "from sklearn.metrics import accuracy_score\n",
    "\n",
    "accuracy_score(prediction['true'],prediction['pred'])"
   ]
  },
  {
   "cell_type": "code",
   "execution_count": 44,
   "id": "dff5b1e5",
   "metadata": {
    "execution": {
     "iopub.execute_input": "2022-02-01T16:47:28.129576Z",
     "iopub.status.busy": "2022-02-01T16:47:28.128909Z",
     "iopub.status.idle": "2022-02-01T16:47:28.360672Z",
     "shell.execute_reply": "2022-02-01T16:47:28.361146Z",
     "shell.execute_reply.started": "2022-02-01T16:33:53.441717Z"
    },
    "papermill": {
     "duration": 0.288091,
     "end_time": "2022-02-01T16:47:28.361339",
     "exception": false,
     "start_time": "2022-02-01T16:47:28.073248",
     "status": "completed"
    },
    "tags": []
   },
   "outputs": [
    {
     "data": {
      "image/png": "[encoded data removed]",
      "text/plain": [
       "<Figure size 432x288 with 2 Axes>"
      ]
     },
     "metadata": {
      "needs_background": "light"
     },
     "output_type": "display_data"
    }
   ],
   "source": [
    "from sklearn.metrics import confusion_matrix,ConfusionMatrixDisplay\n",
    "\n",
    "cm = confusion_matrix(prediction['true'],prediction['pred'],labels=final_model.classes_)\n",
    "disp = ConfusionMatrixDisplay(confusion_matrix = cm, display_labels=final_model.classes_)\n",
    "disp.plot()\n",
    "plt.show()"
   ]
  },
  {
   "cell_type": "code",
   "execution_count": null,
   "id": "94f00eb6",
   "metadata": {
    "papermill": {
     "duration": 0.054324,
     "end_time": "2022-02-01T16:47:28.471524",
     "exception": false,
     "start_time": "2022-02-01T16:47:28.417200",
     "status": "completed"
    },
    "tags": []
   },
   "outputs": [],
   "source": []
  }
 ],
 "metadata": {
  "kernelspec": {
   "display_name": "Python 3",
   "language": "python",
   "name": "python3"
  },
  "language_info": {
   "codemirror_mode": {
    "name": "ipython",
    "version": 3
   },
   "file_extension": ".py",
   "mimetype": "text/x-python",
   "name": "python",
   "nbconvert_exporter": "python",
   "pygments_lexer": "ipython3",
   "version": "3.7.12"
  },
  "papermill": {
   "default_parameters": {},
   "duration": 120.65302,
   "end_time": "2022-02-01T16:47:29.438212",
   "environment_variables": {},
   "exception": null,
   "input_path": "__notebook__.ipynb",
   "output_path": "__notebook__.ipynb",
   "parameters": {},
   "start_time": "2022-02-01T16:45:28.785192",
   "version": "2.3.3"
  }
 },
 "nbformat": 4,
 "nbformat_minor": 5
}
